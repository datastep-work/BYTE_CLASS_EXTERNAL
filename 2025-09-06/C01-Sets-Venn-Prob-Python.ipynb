{
 "cells": [
  {
   "cell_type": "markdown",
   "id": "7b17ebe8",
   "metadata": {},
   "source": [
    "### Introduction"
   ]
  },
  {
   "cell_type": "markdown",
   "id": "c99f9f78",
   "metadata": {},
   "source": [
    "This workbook is the class material for the class on - Sets , Venn Diagram and Probability using Python "
   ]
  },
  {
   "cell_type": "code",
   "execution_count": null,
   "id": "1a5c3ae9",
   "metadata": {},
   "outputs": [],
   "source": [
    "import os   \n",
    "import sys\n",
    "import pandas as pd\n",
    "import numpy as np\n",
    "import matplotlib.pyplot as plt\n",
    "import seaborn as sns   \n",
    "from matplotlib.patches import Circle, Rectangle"
   ]
  },
  {
   "cell_type": "code",
   "execution_count": null,
   "id": "96b0afb8",
   "metadata": {},
   "outputs": [],
   "source": [
    "# Read the CSV file into a DataFrame    \n",
    "data = pd.read_csv('sample_accounts.csv')\n",
    "# Display the DataFrame \n",
    "print(data.head(10))  # Display the first 10 rows"
   ]
  },
  {
   "cell_type": "code",
   "execution_count": null,
   "id": "f6334295",
   "metadata": {},
   "outputs": [],
   "source": [
    "# -----------------------------\n",
    "# 1. Select a single random row\n",
    "# -----------------------------\n",
    "random_row = data.sample(n=1)  \n",
    "print(\"\\nRandom Single Row:\\n\", random_row)"
   ]
  },
  {
   "cell_type": "code",
   "execution_count": null,
   "id": "e8b5e572",
   "metadata": {},
   "outputs": [],
   "source": [
    "# -----------------------------\n",
    "# 1. Select a single random row, with reproducibility\n",
    "# -----------------------------\n",
    "random_row = data.sample(n=1, random_state=42)  # random_state ensures reproducibility\n",
    "print(\"\\nRandom Single Row:\\n\", random_row)"
   ]
  },
  {
   "cell_type": "code",
   "execution_count": null,
   "id": "ff03e34e",
   "metadata": {},
   "outputs": [],
   "source": [
    "# Count # of acct using debit card\n",
    "debit_count = data['use_debit'].sum()\n",
    "print(f\"\\nNumber of accounts using debit card: {debit_count}\")"
   ]
  },
  {
   "cell_type": "code",
   "execution_count": null,
   "id": "a533053a",
   "metadata": {},
   "outputs": [],
   "source": [
    "# Count # of acct using upi \n",
    "upi_count = data['use_upi'].sum()\n",
    "print(f\"\\nNumber of accounts using upi: {upi_count}\")"
   ]
  },
  {
   "cell_type": "code",
   "execution_count": null,
   "id": "15732718",
   "metadata": {},
   "outputs": [],
   "source": [
    "# Count # of acct using upi and debit card  \n",
    "both_count = data[(data['use_debit'] == 1) & (data['use_upi'] == 1)].shape[0]\n",
    "print(f\"\\nNumber of accounts using both debit card and upi: {both_count}\")"
   ]
  },
  {
   "cell_type": "code",
   "execution_count": null,
   "id": "caca1693",
   "metadata": {},
   "outputs": [],
   "source": [
    "# Count # of acct using neither  debit card nor upi \n",
    "neither_count = data[(data['use_debit'] == 0) & (data['use_upi'] == 0)].shape[0]\n",
    "print(f\"\\nNumber of accounts using neither debit card nor upi: {neither_count}\")"
   ]
  },
  {
   "cell_type": "code",
   "execution_count": null,
   "id": "707b5d0d",
   "metadata": {},
   "outputs": [],
   "source": [
    "# Count # of acct  debit card BUT NOT upi\n",
    "debit_not_upi_count = data[(data['use_debit'] == 1) & (data['use_upi'] == 0)].shape[0]\n",
    "print(f\"\\nNumber of accounts using debit card but NOT upi: {debit_not_upi_count}\")"
   ]
  },
  {
   "cell_type": "code",
   "execution_count": null,
   "id": "f7058f10",
   "metadata": {},
   "outputs": [],
   "source": [
    "# Count # of acct  UPI BUT NOT debit card\n",
    "upi_not_debit_count = data[(data['use_debit'] == 0) & (data['use_upi'] == 1)].shape[0]\n",
    "print(f\"\\nNumber of accounts using UPI but NOT debit card: {upi_not_debit_count}\")"
   ]
  },
  {
   "cell_type": "code",
   "execution_count": null,
   "id": "00d594c4",
   "metadata": {},
   "outputs": [],
   "source": [
    "     \n",
    "# # ---- 2) Compute the four regions ----\n",
    "N = len(data)\n",
    "\n",
    "print({\"Neither_Count\": neither_count, \"only_debit\": debit_not_upi_count, \"both\": both_count, \"only_upi\": upi_not_debit_count , \"N\": N})\n",
    "\n",
    "# ---- 3) Plot helper (Venn with \"none\" outside) ----\n",
    "def plot_venn_debit_upi(only_debit, only_upi, both, none, show_percent=True):\n",
    "    fig, ax = plt.subplots(figsize=(7, 4.5))\n",
    "\n",
    "    # Background box to place \"none\"\n",
    "    ax.add_patch(Rectangle((-2.0, -1.3), 5.1, 2.6, fill=False, lw=1.2))\n",
    "\n",
    "    # Two overlapping circles\n",
    "    c1 = Circle((0, 0), 1.0, alpha=0.20)         # Debit\n",
    "    c2 = Circle((1.1, 0), 1.0, alpha=0.20)       # UPI\n",
    "    ax.add_patch(c1); ax.add_patch(c2)\n",
    "\n",
    "    # Counts & optional percents formatter\n",
    "    total = only_debit + only_upi + both + none\n",
    "    def fmt(x):\n",
    "        if show_percent and total > 0:\n",
    "            return f\"{x}\\n({x/total:.1%})\"\n",
    "        return f\"{x}\"\n",
    "\n",
    "    # Place texts: left lens, intersection, right lens\n",
    "    ax.text(-0.35, 0, fmt(only_debit), ha=\"center\", va=\"center\", fontsize=12)\n",
    "    ax.text(0.55,  0, fmt(both),       ha=\"center\", va=\"center\", fontsize=12, fontweight=\"bold\")\n",
    "    ax.text(1.95,  0, fmt(only_upi),   ha=\"center\", va=\"center\", fontsize=12)\n",
    "\n",
    "    # \"None\" region outside the circles (top-left corner of box)\n",
    "    ax.text(-1.6, 0.8, \"None\\n\" + fmt(none), ha=\"left\", va=\"center\", fontsize=11)\n",
    "\n",
    "    # Labels\n",
    "    ax.text(-0.15, 0.95, \"Debit\", fontsize=12)\n",
    "    ax.text(1.25,  0.95, \"UPI\",   fontsize=12)\n",
    "\n",
    "    # Cosmetics\n",
    "    ax.set_xlim(-2.0, 3.1)\n",
    "    ax.set_ylim(-1.3, 1.3)\n",
    "    ax.set_aspect('equal')\n",
    "    ax.axis('off')\n",
    "    plt.title(\"Venn Diagram: Debit vs UPI (with None)\")\n",
    "    plt.show()\n",
    "\n",
    "# ---- 4) Draw it ----\n",
    "plot_venn_debit_upi(debit_not_upi_count, upi_not_debit_count, both_count, neither_count, show_percent=False)\n"
   ]
  },
  {
   "cell_type": "code",
   "execution_count": null,
   "id": "25687d72",
   "metadata": {},
   "outputs": [],
   "source": []
  }
 ],
 "metadata": {
  "kernelspec": {
   "display_name": "base",
   "language": "python",
   "name": "python3"
  },
  "language_info": {
   "codemirror_mode": {
    "name": "ipython",
    "version": 3
   },
   "file_extension": ".py",
   "mimetype": "text/x-python",
   "name": "python",
   "nbconvert_exporter": "python",
   "pygments_lexer": "ipython3",
   "version": "3.13.5"
  }
 },
 "nbformat": 4,
 "nbformat_minor": 5
}
